{
 "cells": [
  {
   "cell_type": "code",
   "execution_count": null,
   "metadata": {},
   "outputs": [],
   "source": [
    "#hide\n",
    "!pip install -qq nbdev geopandas matplotlib numpy pandas pygeos pyproj Shapely"
   ]
  },
  {
   "cell_type": "code",
   "execution_count": null,
   "metadata": {},
   "outputs": [],
   "source": [
    "#hide\n",
    "from pypipe.pipes import *\n",
    "import warnings\n",
    "warnings.filterwarnings('ignore')"
   ]
  },
  {
   "cell_type": "markdown",
   "metadata": {},
   "source": [
    "# PyPipe\n",
    "\n",
    "> A framework for building and running simple data engineering pipelines in Python."
   ]
  },
  {
   "cell_type": "markdown",
   "metadata": {},
   "source": [
    "In Data Science or Data Engineering you constantly hear term “data pipeline”. But there are so many meanings to this term and people often are refering to very specific tools or packages depending on their own background/needs. There are pipelines for pretty much everything and in Python alone I can think of [Luigi](https://luigi.readthedocs.io/en/stable/), [Airflow](https://airflow.apache.org/), [scikit-learn pipelines](https://scikit-learn.org/stable/modules/generated/sklearn.pipeline.Pipeline.html), and [Pandas pipes](https://pandas.pydata.org/pandas-docs/stable/reference/api/pandas.DataFrame.pipe.html) just off the top of my head - [this article](https://towardsdatascience.com/data-pipelines-what-why-and-which-ones-1f674ba49946) does a good job of helping you understand what is out there.\n",
    "\n",
    "It can be quite confusing especially if you want a simple and agnostic pipeline that you can customize for your specific needs with no bells and whistles or lock-ins to libraries etc. That is where PyPipe comes in. It is for the simple data engineer who just wants to get stuff done in an ordered and repeatable way.\n",
    "\n",
    "PyPipe is a simple data pipeline that automates a chain of transformations performed on some data.\n",
    "\n",
    "PyPipe data pipelines are a great way of introducing automation, reproducibility, structure, and flow to your data engineering projects."
   ]
  },
  {
   "cell_type": "markdown",
   "metadata": {},
   "source": [
    "---"
   ]
  },
  {
   "cell_type": "markdown",
   "metadata": {},
   "source": [
    "PyPipe was made by [Robert Johnson](https://www.robtheoceanographer.com/) and [Alexander Kozlov](https://alexkozlov.com/) and [Mohammadreza Khanarmuei](https://www.linkedin.com/in/mohammadreza-khanarmuei-437a3163)"
   ]
  },
  {
   "cell_type": "markdown",
   "metadata": {},
   "source": [
    "---"
   ]
  },
  {
   "cell_type": "markdown",
   "metadata": {},
   "source": [
    "## What is it?"
   ]
  },
  {
   "cell_type": "markdown",
   "metadata": {},
   "source": [
    "The PyPipe transformation pipelines use user defined transformation functions linked together into a TransformationPipe. The key feature of PyPipe is that the datasource passed in can be almost anything that you desire  - e.g. a pandas dataframe, a geopandas dataframe, and iris datacube, a numppy array, so long as your transformation steps read and write the same object pypipe will work for you."
   ]
  },
  {
   "cell_type": "markdown",
   "metadata": {},
   "source": [
    "![pypipe arch](images/pypipe.jpeg)"
   ]
  },
  {
   "cell_type": "markdown",
   "metadata": {},
   "source": [
    "## Install"
   ]
  },
  {
   "cell_type": "markdown",
   "metadata": {},
   "source": [
    "`pip install pypipe`"
   ]
  },
  {
   "cell_type": "markdown",
   "metadata": {},
   "source": [
    "## How to use"
   ]
  },
  {
   "cell_type": "markdown",
   "metadata": {},
   "source": [
    "The TransformationPipe class accepts a list of transformation functions,'steps', to be applied sequentially. Each step contains a name and a function, applied to the input DataObject and will return a transformed DataObject. There is also a third argument in a step that is an optional dictionary of parameters to be passed to your step transformation functions.\n"
   ]
  },
  {
   "cell_type": "markdown",
   "metadata": {},
   "source": [
    "In order to use PyPipe you need two things - a DataObject and a set of transformation steps"
   ]
  },
  {
   "cell_type": "markdown",
   "metadata": {},
   "source": [
    "### DataObject"
   ]
  },
  {
   "cell_type": "markdown",
   "metadata": {},
   "source": [
    "In this very simplified example we will use a [geopandas.GeoDataFrame](https://geopandas.org/en/stable/index.html) as our input DataObject. To do this we will load an example data set from [Kaggle](https://www.kaggle.com/) on the global distribution of Volcano Eruptions: https://www.kaggle.com/datasets/texasdave/volcano-eruptions that we have stored in the repo for this package as 'volcano_data_2010.csv'"
   ]
  },
  {
   "cell_type": "code",
   "execution_count": null,
   "metadata": {},
   "outputs": [],
   "source": [
    "import pandas\n",
    "import geopandas"
   ]
  },
  {
   "cell_type": "markdown",
   "metadata": {},
   "source": [
    "Load the data and put it into a geopandas dataframe:"
   ]
  },
  {
   "cell_type": "code",
   "execution_count": null,
   "metadata": {},
   "outputs": [
    {
     "data": {
      "text/html": [
       "<div>\n",
       "<style scoped>\n",
       "    .dataframe tbody tr th:only-of-type {\n",
       "        vertical-align: middle;\n",
       "    }\n",
       "\n",
       "    .dataframe tbody tr th {\n",
       "        vertical-align: top;\n",
       "    }\n",
       "\n",
       "    .dataframe thead th {\n",
       "        text-align: right;\n",
       "    }\n",
       "</style>\n",
       "<table border=\"1\" class=\"dataframe\">\n",
       "  <thead>\n",
       "    <tr style=\"text-align: right;\">\n",
       "      <th></th>\n",
       "      <th>Year</th>\n",
       "      <th>Name</th>\n",
       "      <th>Country</th>\n",
       "      <th>Latitude</th>\n",
       "      <th>Longitude</th>\n",
       "      <th>Type</th>\n",
       "      <th>geometry</th>\n",
       "    </tr>\n",
       "  </thead>\n",
       "  <tbody>\n",
       "    <tr>\n",
       "      <th>0</th>\n",
       "      <td>2010</td>\n",
       "      <td>Tungurahua</td>\n",
       "      <td>Ecuador</td>\n",
       "      <td>-1.467</td>\n",
       "      <td>-78.442</td>\n",
       "      <td>Stratovolcano</td>\n",
       "      <td>POINT (-78.44200 -1.46700)</td>\n",
       "    </tr>\n",
       "    <tr>\n",
       "      <th>1</th>\n",
       "      <td>2010</td>\n",
       "      <td>Eyjafjallajokull</td>\n",
       "      <td>Iceland</td>\n",
       "      <td>63.630</td>\n",
       "      <td>-19.620</td>\n",
       "      <td>Stratovolcano</td>\n",
       "      <td>POINT (-19.62000 63.63000)</td>\n",
       "    </tr>\n",
       "    <tr>\n",
       "      <th>2</th>\n",
       "      <td>2010</td>\n",
       "      <td>Pacaya</td>\n",
       "      <td>Guatemala</td>\n",
       "      <td>14.381</td>\n",
       "      <td>-90.601</td>\n",
       "      <td>Complex volcano</td>\n",
       "      <td>POINT (-90.60100 14.38100)</td>\n",
       "    </tr>\n",
       "    <tr>\n",
       "      <th>3</th>\n",
       "      <td>2010</td>\n",
       "      <td>Sarigan</td>\n",
       "      <td>United States</td>\n",
       "      <td>16.708</td>\n",
       "      <td>145.780</td>\n",
       "      <td>Stratovolcano</td>\n",
       "      <td>POINT (145.78000 16.70800)</td>\n",
       "    </tr>\n",
       "    <tr>\n",
       "      <th>4</th>\n",
       "      <td>2010</td>\n",
       "      <td>Karangetang [Api Siau]</td>\n",
       "      <td>Indonesia</td>\n",
       "      <td>2.780</td>\n",
       "      <td>125.480</td>\n",
       "      <td>Stratovolcano</td>\n",
       "      <td>POINT (125.48000 2.78000)</td>\n",
       "    </tr>\n",
       "  </tbody>\n",
       "</table>\n",
       "</div>"
      ],
      "text/plain": [
       "   Year                    Name        Country  Latitude  Longitude  \\\n",
       "0  2010              Tungurahua        Ecuador    -1.467    -78.442   \n",
       "1  2010        Eyjafjallajokull        Iceland    63.630    -19.620   \n",
       "2  2010                  Pacaya      Guatemala    14.381    -90.601   \n",
       "3  2010                 Sarigan  United States    16.708    145.780   \n",
       "4  2010  Karangetang [Api Siau]      Indonesia     2.780    125.480   \n",
       "\n",
       "              Type                    geometry  \n",
       "0    Stratovolcano  POINT (-78.44200 -1.46700)  \n",
       "1    Stratovolcano  POINT (-19.62000 63.63000)  \n",
       "2  Complex volcano  POINT (-90.60100 14.38100)  \n",
       "3    Stratovolcano  POINT (145.78000 16.70800)  \n",
       "4    Stratovolcano   POINT (125.48000 2.78000)  "
      ]
     },
     "execution_count": null,
     "metadata": {},
     "output_type": "execute_result"
    }
   ],
   "source": [
    "df1 = pandas.read_csv('../test_data/volcano_data_2010.csv')\n",
    "# Keep only relevant columns\n",
    "df = df1.loc[:, (\"Year\", \"Name\", \"Country\", \"Latitude\", \"Longitude\", \"Type\")]\n",
    "# Create point geometries\n",
    "geometry = geopandas.points_from_xy(df.Longitude, df.Latitude)\n",
    "geo_df = geopandas.GeoDataFrame(df[['Year','Name','Country', 'Latitude', 'Longitude', 'Type']], geometry=geometry)\n",
    "geo_df.head()"
   ]
  },
  {
   "cell_type": "markdown",
   "metadata": {},
   "source": [
    "### Steps"
   ]
  },
  {
   "cell_type": "markdown",
   "metadata": {},
   "source": [
    "Just as an example of something to do we will define only one transformation steps to spatially subset to the Australian region. Yes, i know that this is an unrealistic example but it is just here to show you how to implement pipelines.\n",
    "\n",
    "We must now write our transformation function - keep in mind that the function must take our DataObject as an input and return a transformed DataObject as a return... in this example that is a geopandas.GeoDataFrame"
   ]
  },
  {
   "cell_type": "code",
   "execution_count": null,
   "metadata": {},
   "outputs": [],
   "source": [
    "from pyproj import crs\n",
    "from shapely.geometry import Polygon, MultiPolygon, box, Point"
   ]
  },
  {
   "cell_type": "code",
   "execution_count": null,
   "metadata": {},
   "outputs": [],
   "source": [
    "def spatialCrop(gdf: geopandas.GeoDataFrame, **kwargs):\n",
    "    \"\"\"\n",
    "    This function will apply a sptial limit to a GeoDataFrame based on user-defined limits.\n",
    "    ----------\n",
    "    parameters:\n",
    "        gdf (geopandas.GeoDataFrame): an input GeoDataFrame\n",
    "        kwargs (dict): parameters, \n",
    "            - boundingBox (list): an iterable (lon_min, lat_min, lon_max, lat_max) of the specified region.\n",
    "    Output:\n",
    "        transformed_gdf (gdp.GeoDataFrame): GeoDataFrame that is spatially limited to the boundingBox.\n",
    "    \"\"\"\n",
    "    if \"boundingBox\" not in kwargs:\n",
    "        return gdf\n",
    "\n",
    "    boundingBox = kwargs[\"boundingBox\"]\n",
    "    # just an example so we are doing naughty things with the CRS... look away here...\n",
    "    coord_system = crs.crs.CRS('WGS 84')\n",
    "\n",
    "    bounding = geopandas.GeoDataFrame(\n",
    "        {\n",
    "            'limit': ['bounding box'],\n",
    "            'geometry': [\n",
    "                box(boundingBox[0], boundingBox[1], boundingBox[2],\n",
    "                    boundingBox[3])\n",
    "            ]\n",
    "        },\n",
    "        crs=coord_system)\n",
    "    limited_gdf = geopandas.tools.sjoin(gdf,\n",
    "                                        bounding,\n",
    "                                        op='intersects',\n",
    "                                        how='left')\n",
    "    limited_gdf = limited_gdf[limited_gdf['limit'] == 'bounding box']\n",
    "    limited_gdf = limited_gdf.drop(columns=['index_right', 'limit'])\n",
    "\n",
    "    return limited_gdf"
   ]
  },
  {
   "cell_type": "markdown",
   "metadata": {},
   "source": [
    "### Define a PyPipe\n",
    "Now that we have a step or function and some data we can now define our transformation pipeline:"
   ]
  },
  {
   "cell_type": "code",
   "execution_count": null,
   "metadata": {},
   "outputs": [],
   "source": [
    "pipe = TransformationPipe(steps=[\n",
    "    ('refine region', spatialCrop, {\"boundingBox\": [80, -50, 180, 0]})\n",
    "])"
   ]
  },
  {
   "cell_type": "markdown",
   "metadata": {},
   "source": [
    "### Evaluate your PyPipe\n",
    "This where things get interesting... we can now call `evaluate` on our pipe and watch the magic happen:"
   ]
  },
  {
   "cell_type": "markdown",
   "metadata": {},
   "source": [
    "#### Input data:"
   ]
  },
  {
   "cell_type": "code",
   "execution_count": null,
   "metadata": {},
   "outputs": [
    {
     "data": {
      "text/html": [
       "<div>\n",
       "<style scoped>\n",
       "    .dataframe tbody tr th:only-of-type {\n",
       "        vertical-align: middle;\n",
       "    }\n",
       "\n",
       "    .dataframe tbody tr th {\n",
       "        vertical-align: top;\n",
       "    }\n",
       "\n",
       "    .dataframe thead th {\n",
       "        text-align: right;\n",
       "    }\n",
       "</style>\n",
       "<table border=\"1\" class=\"dataframe\">\n",
       "  <thead>\n",
       "    <tr style=\"text-align: right;\">\n",
       "      <th></th>\n",
       "      <th>Year</th>\n",
       "      <th>Name</th>\n",
       "      <th>Country</th>\n",
       "      <th>Latitude</th>\n",
       "      <th>Longitude</th>\n",
       "      <th>Type</th>\n",
       "      <th>geometry</th>\n",
       "    </tr>\n",
       "  </thead>\n",
       "  <tbody>\n",
       "    <tr>\n",
       "      <th>0</th>\n",
       "      <td>2010</td>\n",
       "      <td>Tungurahua</td>\n",
       "      <td>Ecuador</td>\n",
       "      <td>-1.467</td>\n",
       "      <td>-78.442</td>\n",
       "      <td>Stratovolcano</td>\n",
       "      <td>POINT (-78.44200 -1.46700)</td>\n",
       "    </tr>\n",
       "    <tr>\n",
       "      <th>1</th>\n",
       "      <td>2010</td>\n",
       "      <td>Eyjafjallajokull</td>\n",
       "      <td>Iceland</td>\n",
       "      <td>63.630</td>\n",
       "      <td>-19.620</td>\n",
       "      <td>Stratovolcano</td>\n",
       "      <td>POINT (-19.62000 63.63000)</td>\n",
       "    </tr>\n",
       "    <tr>\n",
       "      <th>2</th>\n",
       "      <td>2010</td>\n",
       "      <td>Pacaya</td>\n",
       "      <td>Guatemala</td>\n",
       "      <td>14.381</td>\n",
       "      <td>-90.601</td>\n",
       "      <td>Complex volcano</td>\n",
       "      <td>POINT (-90.60100 14.38100)</td>\n",
       "    </tr>\n",
       "    <tr>\n",
       "      <th>3</th>\n",
       "      <td>2010</td>\n",
       "      <td>Sarigan</td>\n",
       "      <td>United States</td>\n",
       "      <td>16.708</td>\n",
       "      <td>145.780</td>\n",
       "      <td>Stratovolcano</td>\n",
       "      <td>POINT (145.78000 16.70800)</td>\n",
       "    </tr>\n",
       "    <tr>\n",
       "      <th>4</th>\n",
       "      <td>2010</td>\n",
       "      <td>Karangetang [Api Siau]</td>\n",
       "      <td>Indonesia</td>\n",
       "      <td>2.780</td>\n",
       "      <td>125.480</td>\n",
       "      <td>Stratovolcano</td>\n",
       "      <td>POINT (125.48000 2.78000)</td>\n",
       "    </tr>\n",
       "    <tr>\n",
       "      <th>...</th>\n",
       "      <td>...</td>\n",
       "      <td>...</td>\n",
       "      <td>...</td>\n",
       "      <td>...</td>\n",
       "      <td>...</td>\n",
       "      <td>...</td>\n",
       "      <td>...</td>\n",
       "    </tr>\n",
       "    <tr>\n",
       "      <th>58</th>\n",
       "      <td>2018</td>\n",
       "      <td>Kilauea</td>\n",
       "      <td>United States</td>\n",
       "      <td>19.425</td>\n",
       "      <td>-155.292</td>\n",
       "      <td>Shield volcano</td>\n",
       "      <td>POINT (-155.29200 19.42500)</td>\n",
       "    </tr>\n",
       "    <tr>\n",
       "      <th>59</th>\n",
       "      <td>2018</td>\n",
       "      <td>Kadovar</td>\n",
       "      <td>Papua New Guinea</td>\n",
       "      <td>-3.620</td>\n",
       "      <td>144.620</td>\n",
       "      <td>Stratovolcano</td>\n",
       "      <td>POINT (144.62000 -3.62000)</td>\n",
       "    </tr>\n",
       "    <tr>\n",
       "      <th>60</th>\n",
       "      <td>2018</td>\n",
       "      <td>Ijen</td>\n",
       "      <td>Indonesia</td>\n",
       "      <td>-8.058</td>\n",
       "      <td>114.242</td>\n",
       "      <td>Stratovolcano</td>\n",
       "      <td>POINT (114.24200 -8.05800)</td>\n",
       "    </tr>\n",
       "    <tr>\n",
       "      <th>61</th>\n",
       "      <td>2018</td>\n",
       "      <td>Kilauea</td>\n",
       "      <td>United States</td>\n",
       "      <td>19.425</td>\n",
       "      <td>-155.292</td>\n",
       "      <td>Shield volcano</td>\n",
       "      <td>POINT (-155.29200 19.42500)</td>\n",
       "    </tr>\n",
       "    <tr>\n",
       "      <th>62</th>\n",
       "      <td>2018</td>\n",
       "      <td>Aoba</td>\n",
       "      <td>Vanuatu</td>\n",
       "      <td>-15.400</td>\n",
       "      <td>167.830</td>\n",
       "      <td>Shield volcano</td>\n",
       "      <td>POINT (167.83000 -15.40000)</td>\n",
       "    </tr>\n",
       "  </tbody>\n",
       "</table>\n",
       "<p>63 rows × 7 columns</p>\n",
       "</div>"
      ],
      "text/plain": [
       "    Year                    Name           Country  Latitude  Longitude  \\\n",
       "0   2010              Tungurahua           Ecuador    -1.467    -78.442   \n",
       "1   2010        Eyjafjallajokull           Iceland    63.630    -19.620   \n",
       "2   2010                  Pacaya         Guatemala    14.381    -90.601   \n",
       "3   2010                 Sarigan     United States    16.708    145.780   \n",
       "4   2010  Karangetang [Api Siau]         Indonesia     2.780    125.480   \n",
       "..   ...                     ...               ...       ...        ...   \n",
       "58  2018                 Kilauea     United States    19.425   -155.292   \n",
       "59  2018                 Kadovar  Papua New Guinea    -3.620    144.620   \n",
       "60  2018                    Ijen         Indonesia    -8.058    114.242   \n",
       "61  2018                 Kilauea     United States    19.425   -155.292   \n",
       "62  2018                    Aoba           Vanuatu   -15.400    167.830   \n",
       "\n",
       "               Type                     geometry  \n",
       "0     Stratovolcano   POINT (-78.44200 -1.46700)  \n",
       "1     Stratovolcano   POINT (-19.62000 63.63000)  \n",
       "2   Complex volcano   POINT (-90.60100 14.38100)  \n",
       "3     Stratovolcano   POINT (145.78000 16.70800)  \n",
       "4     Stratovolcano    POINT (125.48000 2.78000)  \n",
       "..              ...                          ...  \n",
       "58   Shield volcano  POINT (-155.29200 19.42500)  \n",
       "59    Stratovolcano   POINT (144.62000 -3.62000)  \n",
       "60    Stratovolcano   POINT (114.24200 -8.05800)  \n",
       "61   Shield volcano  POINT (-155.29200 19.42500)  \n",
       "62   Shield volcano  POINT (167.83000 -15.40000)  \n",
       "\n",
       "[63 rows x 7 columns]"
      ]
     },
     "execution_count": null,
     "metadata": {},
     "output_type": "execute_result"
    }
   ],
   "source": [
    "geo_df"
   ]
  },
  {
   "cell_type": "markdown",
   "metadata": {},
   "source": [
    "#### Evaluation:"
   ]
  },
  {
   "cell_type": "code",
   "execution_count": null,
   "metadata": {},
   "outputs": [],
   "source": [
    "transformed_geo_df = pipe.evaluate(geo_df)"
   ]
  },
  {
   "cell_type": "markdown",
   "metadata": {},
   "source": [
    "#### Transformed data:"
   ]
  },
  {
   "cell_type": "code",
   "execution_count": null,
   "metadata": {},
   "outputs": [
    {
     "data": {
      "text/html": [
       "<div>\n",
       "<style scoped>\n",
       "    .dataframe tbody tr th:only-of-type {\n",
       "        vertical-align: middle;\n",
       "    }\n",
       "\n",
       "    .dataframe tbody tr th {\n",
       "        vertical-align: top;\n",
       "    }\n",
       "\n",
       "    .dataframe thead th {\n",
       "        text-align: right;\n",
       "    }\n",
       "</style>\n",
       "<table border=\"1\" class=\"dataframe\">\n",
       "  <thead>\n",
       "    <tr style=\"text-align: right;\">\n",
       "      <th></th>\n",
       "      <th>Year</th>\n",
       "      <th>Name</th>\n",
       "      <th>Country</th>\n",
       "      <th>Latitude</th>\n",
       "      <th>Longitude</th>\n",
       "      <th>Type</th>\n",
       "      <th>geometry</th>\n",
       "    </tr>\n",
       "  </thead>\n",
       "  <tbody>\n",
       "    <tr>\n",
       "      <th>6</th>\n",
       "      <td>2010</td>\n",
       "      <td>Merapi</td>\n",
       "      <td>Indonesia</td>\n",
       "      <td>-7.542</td>\n",
       "      <td>110.442</td>\n",
       "      <td>Stratovolcano</td>\n",
       "      <td>POINT (110.44200 -7.54200)</td>\n",
       "    </tr>\n",
       "    <tr>\n",
       "      <th>8</th>\n",
       "      <td>2010</td>\n",
       "      <td>Tengger Caldera</td>\n",
       "      <td>Indonesia</td>\n",
       "      <td>-7.942</td>\n",
       "      <td>112.950</td>\n",
       "      <td>Stratovolcano</td>\n",
       "      <td>POINT (112.95000 -7.94200)</td>\n",
       "    </tr>\n",
       "    <tr>\n",
       "      <th>9</th>\n",
       "      <td>2011</td>\n",
       "      <td>Merapi</td>\n",
       "      <td>Indonesia</td>\n",
       "      <td>-7.542</td>\n",
       "      <td>110.442</td>\n",
       "      <td>Stratovolcano</td>\n",
       "      <td>POINT (110.44200 -7.54200)</td>\n",
       "    </tr>\n",
       "    <tr>\n",
       "      <th>22</th>\n",
       "      <td>2013</td>\n",
       "      <td>Merapi</td>\n",
       "      <td>Indonesia</td>\n",
       "      <td>-7.542</td>\n",
       "      <td>110.442</td>\n",
       "      <td>Stratovolcano</td>\n",
       "      <td>POINT (110.44200 -7.54200)</td>\n",
       "    </tr>\n",
       "    <tr>\n",
       "      <th>23</th>\n",
       "      <td>2013</td>\n",
       "      <td>Paluweh</td>\n",
       "      <td>Indonesia</td>\n",
       "      <td>-8.320</td>\n",
       "      <td>121.708</td>\n",
       "      <td>Stratovolcano</td>\n",
       "      <td>POINT (121.70800 -8.32000)</td>\n",
       "    </tr>\n",
       "    <tr>\n",
       "      <th>25</th>\n",
       "      <td>2013</td>\n",
       "      <td>Paluweh</td>\n",
       "      <td>Indonesia</td>\n",
       "      <td>-8.320</td>\n",
       "      <td>121.708</td>\n",
       "      <td>Stratovolcano</td>\n",
       "      <td>POINT (121.70800 -8.32000)</td>\n",
       "    </tr>\n",
       "    <tr>\n",
       "      <th>29</th>\n",
       "      <td>2013</td>\n",
       "      <td>Okataina</td>\n",
       "      <td>New Zealand</td>\n",
       "      <td>-38.120</td>\n",
       "      <td>176.500</td>\n",
       "      <td>Lava dome</td>\n",
       "      <td>POINT (176.50000 -38.12000)</td>\n",
       "    </tr>\n",
       "    <tr>\n",
       "      <th>31</th>\n",
       "      <td>2014</td>\n",
       "      <td>Kelut</td>\n",
       "      <td>Indonesia</td>\n",
       "      <td>-7.930</td>\n",
       "      <td>112.308</td>\n",
       "      <td>Stratovolcano</td>\n",
       "      <td>POINT (112.30800 -7.93000)</td>\n",
       "    </tr>\n",
       "    <tr>\n",
       "      <th>39</th>\n",
       "      <td>2015</td>\n",
       "      <td>Manam</td>\n",
       "      <td>Papua New Guinea</td>\n",
       "      <td>-4.100</td>\n",
       "      <td>145.061</td>\n",
       "      <td>Stratovolcano</td>\n",
       "      <td>POINT (145.06100 -4.10000)</td>\n",
       "    </tr>\n",
       "    <tr>\n",
       "      <th>41</th>\n",
       "      <td>2015</td>\n",
       "      <td>Okataina</td>\n",
       "      <td>New Zealand</td>\n",
       "      <td>-38.120</td>\n",
       "      <td>176.500</td>\n",
       "      <td>Lava dome</td>\n",
       "      <td>POINT (176.50000 -38.12000)</td>\n",
       "    </tr>\n",
       "    <tr>\n",
       "      <th>45</th>\n",
       "      <td>2016</td>\n",
       "      <td>Rinjani</td>\n",
       "      <td>Indonesia</td>\n",
       "      <td>-8.420</td>\n",
       "      <td>116.470</td>\n",
       "      <td>Stratovolcano</td>\n",
       "      <td>POINT (116.47000 -8.42000)</td>\n",
       "    </tr>\n",
       "    <tr>\n",
       "      <th>50</th>\n",
       "      <td>2017</td>\n",
       "      <td>Dieng Volc Complex</td>\n",
       "      <td>Indonesia</td>\n",
       "      <td>-7.200</td>\n",
       "      <td>109.920</td>\n",
       "      <td>Complex volcano</td>\n",
       "      <td>POINT (109.92000 -7.20000)</td>\n",
       "    </tr>\n",
       "    <tr>\n",
       "      <th>52</th>\n",
       "      <td>2017</td>\n",
       "      <td>Aoba</td>\n",
       "      <td>Vanuatu</td>\n",
       "      <td>-15.400</td>\n",
       "      <td>167.830</td>\n",
       "      <td>Shield volcano</td>\n",
       "      <td>POINT (167.83000 -15.40000)</td>\n",
       "    </tr>\n",
       "    <tr>\n",
       "      <th>53</th>\n",
       "      <td>2017</td>\n",
       "      <td>Merapi</td>\n",
       "      <td>Indonesia</td>\n",
       "      <td>-7.542</td>\n",
       "      <td>110.442</td>\n",
       "      <td>Stratovolcano</td>\n",
       "      <td>POINT (110.44200 -7.54200)</td>\n",
       "    </tr>\n",
       "    <tr>\n",
       "      <th>55</th>\n",
       "      <td>2018</td>\n",
       "      <td>Kadovar</td>\n",
       "      <td>Papua New Guinea</td>\n",
       "      <td>-3.620</td>\n",
       "      <td>144.620</td>\n",
       "      <td>Stratovolcano</td>\n",
       "      <td>POINT (144.62000 -3.62000)</td>\n",
       "    </tr>\n",
       "    <tr>\n",
       "      <th>59</th>\n",
       "      <td>2018</td>\n",
       "      <td>Kadovar</td>\n",
       "      <td>Papua New Guinea</td>\n",
       "      <td>-3.620</td>\n",
       "      <td>144.620</td>\n",
       "      <td>Stratovolcano</td>\n",
       "      <td>POINT (144.62000 -3.62000)</td>\n",
       "    </tr>\n",
       "    <tr>\n",
       "      <th>60</th>\n",
       "      <td>2018</td>\n",
       "      <td>Ijen</td>\n",
       "      <td>Indonesia</td>\n",
       "      <td>-8.058</td>\n",
       "      <td>114.242</td>\n",
       "      <td>Stratovolcano</td>\n",
       "      <td>POINT (114.24200 -8.05800)</td>\n",
       "    </tr>\n",
       "    <tr>\n",
       "      <th>62</th>\n",
       "      <td>2018</td>\n",
       "      <td>Aoba</td>\n",
       "      <td>Vanuatu</td>\n",
       "      <td>-15.400</td>\n",
       "      <td>167.830</td>\n",
       "      <td>Shield volcano</td>\n",
       "      <td>POINT (167.83000 -15.40000)</td>\n",
       "    </tr>\n",
       "  </tbody>\n",
       "</table>\n",
       "</div>"
      ],
      "text/plain": [
       "    Year                Name           Country  Latitude  Longitude  \\\n",
       "6   2010              Merapi         Indonesia    -7.542    110.442   \n",
       "8   2010     Tengger Caldera         Indonesia    -7.942    112.950   \n",
       "9   2011              Merapi         Indonesia    -7.542    110.442   \n",
       "22  2013              Merapi         Indonesia    -7.542    110.442   \n",
       "23  2013             Paluweh         Indonesia    -8.320    121.708   \n",
       "25  2013             Paluweh         Indonesia    -8.320    121.708   \n",
       "29  2013            Okataina       New Zealand   -38.120    176.500   \n",
       "31  2014               Kelut         Indonesia    -7.930    112.308   \n",
       "39  2015               Manam  Papua New Guinea    -4.100    145.061   \n",
       "41  2015            Okataina       New Zealand   -38.120    176.500   \n",
       "45  2016             Rinjani         Indonesia    -8.420    116.470   \n",
       "50  2017  Dieng Volc Complex         Indonesia    -7.200    109.920   \n",
       "52  2017                Aoba           Vanuatu   -15.400    167.830   \n",
       "53  2017              Merapi         Indonesia    -7.542    110.442   \n",
       "55  2018             Kadovar  Papua New Guinea    -3.620    144.620   \n",
       "59  2018             Kadovar  Papua New Guinea    -3.620    144.620   \n",
       "60  2018                Ijen         Indonesia    -8.058    114.242   \n",
       "62  2018                Aoba           Vanuatu   -15.400    167.830   \n",
       "\n",
       "               Type                     geometry  \n",
       "6     Stratovolcano   POINT (110.44200 -7.54200)  \n",
       "8     Stratovolcano   POINT (112.95000 -7.94200)  \n",
       "9     Stratovolcano   POINT (110.44200 -7.54200)  \n",
       "22    Stratovolcano   POINT (110.44200 -7.54200)  \n",
       "23    Stratovolcano   POINT (121.70800 -8.32000)  \n",
       "25    Stratovolcano   POINT (121.70800 -8.32000)  \n",
       "29        Lava dome  POINT (176.50000 -38.12000)  \n",
       "31    Stratovolcano   POINT (112.30800 -7.93000)  \n",
       "39    Stratovolcano   POINT (145.06100 -4.10000)  \n",
       "41        Lava dome  POINT (176.50000 -38.12000)  \n",
       "45    Stratovolcano   POINT (116.47000 -8.42000)  \n",
       "50  Complex volcano   POINT (109.92000 -7.20000)  \n",
       "52   Shield volcano  POINT (167.83000 -15.40000)  \n",
       "53    Stratovolcano   POINT (110.44200 -7.54200)  \n",
       "55    Stratovolcano   POINT (144.62000 -3.62000)  \n",
       "59    Stratovolcano   POINT (144.62000 -3.62000)  \n",
       "60    Stratovolcano   POINT (114.24200 -8.05800)  \n",
       "62   Shield volcano  POINT (167.83000 -15.40000)  "
      ]
     },
     "execution_count": null,
     "metadata": {},
     "output_type": "execute_result"
    }
   ],
   "source": [
    "transformed_geo_df"
   ]
  },
  {
   "cell_type": "markdown",
   "metadata": {},
   "source": [
    "The power of this work is in its reproducibility and scalablilty."
   ]
  },
  {
   "cell_type": "markdown",
   "metadata": {},
   "source": [
    "## Credits"
   ]
  },
  {
   "cell_type": "markdown",
   "metadata": {},
   "source": [
    "- Logo art from \"Vecteezy.com\"\n",
    "- Demo data from \"Kaggle.com\""
   ]
  }
 ],
 "metadata": {
  "kernelspec": {
   "display_name": "Python 3 (ipykernel)",
   "language": "python",
   "name": "python3"
  }
 },
 "nbformat": 4,
 "nbformat_minor": 2
}
