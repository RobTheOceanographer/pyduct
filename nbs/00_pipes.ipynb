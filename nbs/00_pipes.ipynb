{
 "cells": [
  {
   "cell_type": "code",
   "execution_count": null,
   "metadata": {},
   "outputs": [],
   "source": [
    "# default_exp pipes"
   ]
  },
  {
   "cell_type": "markdown",
   "metadata": {},
   "source": [
    "# Transformer pipes\n",
    "\n",
    "> This is where we define the main transformer pipeline classes.\n",
    "\n",
    "Initially we are providing a basic linear or serial evaluation pipeline but eventually we will add a parallel evaluation pipeline for not dependent transormations."
   ]
  },
  {
   "cell_type": "code",
   "execution_count": null,
   "metadata": {},
   "outputs": [],
   "source": [
    "#hide\n",
    "from nbdev.showdoc import *"
   ]
  },
  {
   "cell_type": "markdown",
   "metadata": {},
   "source": [
    "## Linear Transformation Pipe"
   ]
  },
  {
   "cell_type": "code",
   "execution_count": null,
   "metadata": {},
   "outputs": [],
   "source": [
    "# export\n",
    "class TransformationPipe:\n",
    "    \"\"\"\n",
    "    Transformation pipeline performs a series of transformation processes based on the user's defined functions.\n",
    "\n",
    "    This is the basic sequenctial pipeline.\n",
    "\n",
    "    Input:\n",
    "        steps (list): contains a list of names and functions and an optional third argument for each step is an dictionary of parameters to be passed to that function.\n",
    "\n",
    "    e.g.\n",
    "    If the user has defined the following functions - temporalCrop, spatialCrop - then this is how to assemlbe a Transformation pipeline for these:\n",
    "\n",
    "        transPipe = TransformationPipe(\n",
    "                steps=[\n",
    "                    ('time horizon selection', temporalCrop, {\"timeLength\": 18}),\n",
    "                    ('region selection', spatialCrop, {\"boundingBox\": [120, -15, 160, 15]}),\n",
    "                    ])\n",
    "\n",
    "    \"\"\"\n",
    "\n",
    "    def __init__(self, steps: list):\n",
    "        \"\"\"\n",
    "        Args:\n",
    "        - steps (list): list of steps to be evaluated sequentially.\n",
    "            (\"step name\", step_fuction, <optinal>function_kwargs)\n",
    "        \"\"\"\n",
    "        self.steps = steps\n",
    "        self.step_names = [s[0] for s in steps]\n",
    "\n",
    "    def evaluate(self, dataobject):\n",
    "        \"\"\"\n",
    "        Apply transformation steps to the dataobject in sequence.\n",
    "        \"\"\"\n",
    "        assert len(\n",
    "            self.steps\n",
    "        ) >= 1, \"---| Please define at least one transformation step\"\n",
    "        for step in self.steps:\n",
    "            if len(step) == 2:\n",
    "                dataobject = step[1](dataobject)\n",
    "            elif len(step) == 3:\n",
    "                # if kwargs are provided as argument #3\n",
    "                dataobject = step[1](dataobject, **step[2])\n",
    "        return dataobject"
   ]
  },
  {
   "cell_type": "code",
   "execution_count": null,
   "metadata": {},
   "outputs": [],
   "source": []
  }
 ],
 "metadata": {
  "kernelspec": {
   "display_name": "Python 3 (ipykernel)",
   "language": "python",
   "name": "python3"
  },
  "language_info": {
   "codemirror_mode": {
    "name": "ipython",
    "version": 3
   },
   "file_extension": ".py",
   "mimetype": "text/x-python",
   "name": "python",
   "nbconvert_exporter": "python",
   "pygments_lexer": "ipython3",
   "version": "3.10.4"
  },
  "toc": {
   "base_numbering": 1,
   "nav_menu": {},
   "number_sections": true,
   "sideBar": true,
   "skip_h1_title": false,
   "title_cell": "Table of Contents",
   "title_sidebar": "Contents",
   "toc_cell": false,
   "toc_position": {},
   "toc_section_display": true,
   "toc_window_display": false
  }
 },
 "nbformat": 4,
 "nbformat_minor": 2
}
